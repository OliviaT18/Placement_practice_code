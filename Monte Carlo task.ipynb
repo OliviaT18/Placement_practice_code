{
 "cells": [
  {
   "cell_type": "markdown",
   "metadata": {},
   "source": [
    "# Monte Carlo Estimate of Pi"
   ]
  },
  {
   "cell_type": "code",
   "execution_count": 44,
   "metadata": {},
   "outputs": [
    {
     "name": "stdout",
     "output_type": "stream",
     "text": [
      "3.140172\n"
     ]
    },
    {
     "data": {
      "text/plain": [
       "<function matplotlib.pyplot.show(*args, **kw)>"
      ]
     },
     "execution_count": 44,
     "metadata": {},
     "output_type": "execute_result"
    },
    {
     "data": {
      "image/png": "[encoded data removed]",
      "text/plain": [
       "<Figure size 432x288 with 1 Axes>"
      ]
     },
     "metadata": {
      "needs_background": "light"
     },
     "output_type": "display_data"
    }
   ],
   "source": [
    "import numpy as np\n",
    "import matplotlib.pyplot as plt\n",
    "\n",
    "M=0             #No of points in circle\n",
    "N=1000000       #Total No of points\n",
    "\n",
    "x_circle = []           #Creates a list to store x and y values in and out of the circle \n",
    "y_circle = []\n",
    "x_square = []\n",
    "y_square = []\n",
    "\n",
    "for i in range (N):\n",
    "    x = np.random.uniform(-1.0,1.0)   #Generate a pair of coordinates between -1 and 1 from the uniform distribution \n",
    "    y = np.random.uniform(-1.0,1.0)\n",
    "    \n",
    "    if x**2+y**2 <=1:\n",
    "        M+=1\n",
    "        x_circle.append(x)              \n",
    "        y_circle.append(y)           #Stores values inside circle\n",
    "    else:\n",
    "        x_square.append(x)             \n",
    "        y_square.append(y)           #Stores values outside circle\n",
    "       \n",
    "    \n",
    "\n",
    "Pi_est =(M/N)*4\n",
    "print (Pi_est)\n",
    "\n",
    "plt.scatter(x_circle, y_circle, c='b', marker='.')\n",
    "plt.scatter(x_square, y_square, c='m', marker='.')\n",
    "plt.show\n",
    "       "
   ]
  },
  {
   "cell_type": "code",
   "execution_count": null,
   "metadata": {},
   "outputs": [],
   "source": []
  },
  {
   "cell_type": "code",
   "execution_count": null,
   "metadata": {},
   "outputs": [],
   "source": []
  }
 ],
 "metadata": {
  "kernelspec": {
   "display_name": "Python 3",
   "language": "python",
   "name": "python3"
  },
  "language_info": {
   "codemirror_mode": {
    "name": "ipython",
    "version": 3
   },
   "file_extension": ".py",
   "mimetype": "text/x-python",
   "name": "python",
   "nbconvert_exporter": "python",
   "pygments_lexer": "ipython3",
   "version": "3.8.3"
  }
 },
 "nbformat": 4,
 "nbformat_minor": 4
}
