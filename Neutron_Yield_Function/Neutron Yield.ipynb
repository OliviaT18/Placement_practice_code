{
 "cells": [
  {
   "cell_type": "markdown",
   "metadata": {},
   "source": [
    "## Neutron Yield - Carpenter Function"
   ]
  },
  {
   "cell_type": "code",
   "execution_count": 1,
   "metadata": {},
   "outputs": [],
   "source": [
    "import numpy as np\n",
    "import matplotlib.pyplot as plt"
   ]
  },
  {
   "cell_type": "markdown",
   "metadata": {},
   "source": [
    "### For given A plot n vs E for range 10Mev - 1.5GeV. Eqn = Y(E,A) = 0.1(EGeV - 0.120)(A + 20)"
   ]
  },
  {
   "cell_type": "markdown",
   "metadata": {},
   "source": [
    "0.01 - 1.5 GeV"
   ]
  },
  {
   "cell_type": "code",
   "execution_count": 22,
   "metadata": {},
   "outputs": [],
   "source": [
    "A = 207 #pb\n",
    "E = np.linspace(0.01, 1.5, 50)"
   ]
  },
  {
   "cell_type": "code",
   "execution_count": 23,
   "metadata": {},
   "outputs": [],
   "source": [
    "def n_yield(E, A):\n",
    "    Y = 0.1 * (E - 0.120)*(A + 20)\n",
    "    return (Y)"
   ]
  },
  {
   "cell_type": "code",
   "execution_count": 24,
   "metadata": {},
   "outputs": [
    {
     "name": "stdout",
     "output_type": "stream",
     "text": [
      "[-2.497      -1.80673469 -1.11646939 -0.42620408  0.26406122  0.95432653\n",
      "  1.64459184  2.33485714  3.02512245  3.71538776  4.40565306  5.09591837\n",
      "  5.78618367  6.47644898  7.16671429  7.85697959  8.5472449   9.2375102\n",
      "  9.92777551 10.61804082 11.30830612 11.99857143 12.68883673 13.37910204\n",
      " 14.06936735 14.75963265 15.44989796 16.14016327 16.83042857 17.52069388\n",
      " 18.21095918 18.90122449 19.5914898  20.2817551  20.97202041 21.66228571\n",
      " 22.35255102 23.04281633 23.73308163 24.42334694 25.11361224 25.80387755\n",
      " 26.49414286 27.18440816 27.87467347 28.56493878 29.25520408 29.94546939\n",
      " 30.63573469 31.326     ]\n"
     ]
    }
   ],
   "source": [
    "for e in E:\n",
    "    n = n_yield(E, A)\n",
    "print (n)"
   ]
  },
  {
   "cell_type": "code",
   "execution_count": 28,
   "metadata": {},
   "outputs": [
    {
     "data": {
      "image/png": "[encoded data removed]",
      "text/plain": [
       "<Figure size 432x288 with 1 Axes>"
      ]
     },
     "metadata": {
      "needs_background": "light"
     },
     "output_type": "display_data"
    }
   ],
   "source": [
    "plt.plot(E, n)\n",
    "plt.ylim(0)\n",
    "plt.xlabel('Proton Energy GeV')\n",
    "plt.ylabel('Neutron Yield')\n",
    "plt.show()"
   ]
  },
  {
   "cell_type": "markdown",
   "metadata": {},
   "source": [
    "### For given E plot n vs A"
   ]
  },
  {
   "cell_type": "code",
   "execution_count": 78,
   "metadata": {},
   "outputs": [],
   "source": [
    "#All A??? - read in a file with mass numbers"
   ]
  },
  {
   "cell_type": "code",
   "execution_count": 85,
   "metadata": {},
   "outputs": [],
   "source": [
    "E = 0.5"
   ]
  },
  {
   "cell_type": "code",
   "execution_count": 113,
   "metadata": {},
   "outputs": [
    {
     "name": "stdout",
     "output_type": "stream",
     "text": [
      "mass numbers = {'H': 1.0083, 'He': 4.002602, 'Li': 6.94, 'Be': 9.0121831, 'B': 10.81, 'C': 12.011, 'N': 14.007, 'O': 15.999, 'F': 18.99840316, 'Ne': 20.1797, 'Na': 22.9897692, 'Mg': 24.305, 'Al': 26.9815384, 'Si': 28.085, 'P': 30.9737619, 'S': 32.06, 'Cl': 35.45, 'Ar': 9.948, 'K': 39.0983, 'Ca': 40.078, 'Sc': 44.955908, 'Ti': 47.867, 'V': 50.9415, 'Cr': 51.9961, 'Mn': 54.938043, 'Fe': 55.845, 'Co': 58.933194, 'Ni': 58.6934, 'Cu': 63.546, 'Zn': 65.38, 'Ga': 69.723, 'Ge': 72.63, 'As': 74.921595, 'Se': 78.971, 'Br': 79.904, 'Kr': 83.798, 'Rb': 85.4678, 'Sr': 87.62, 'Y': 88.90584, 'Zr': 91.224, 'Nb': 92.90637, 'Mo': 95.95, 'Tc': 97.0, 'Ru': 101.07, 'Rh': 102.90549, 'Pd': 106.42, 'Ag': 107.8682, 'Cd': 112.414, 'In': 114.818, 'Sn': 118.71, 'Sb': 121.76, 'Te': 127.6, 'I': 126.90447, 'Xe': 131.293, 'Cs': 132.905451, 'Ba': 137.327, 'La': 138.90547, 'Ce': 140.116, 'Pr': 140.90766, 'Nd': 144.242, 'Pm': 145.0, 'Sm': 150.36, 'Eu': 151.964, 'Gd': 157.25, 'Tb': 158.925354, 'Dy': 162.5, 'Ho': 164.93032, 'Er': 167.259, 'Tm': 168.93421, 'Yb': 173.045, 'Lu': 174.9668, 'Hf': 178.486, 'Ta': 180.94788, 'W': 183.84, 'Re': 186.207, 'Os': 190.23, 'Ir': 192.217, 'Pt': 195.084, 'Au': 196.96657, 'Hg': 200.592, 'Tl': 204.38, 'Pb': 207.2, 'Bi': 208.9804, 'Po': 209.0, 'At': 210.0, 'Rn': 222.0, 'Fr': 223.0, 'Ra': 226.0, 'Ac': 227.0, 'Th': 232.0377, 'Pa': 231.03588, 'U': 238.02891, 'Np': 237.0, 'Pu': 244.0, 'Am': 243.0, 'Cm': 247.0, 'Bk': 247.0, 'Cf': 251.0, 'Es': 252.0, 'Fm': 257.0, 'Md': 258.0, 'No': 259.0, 'Lr': 262.0, 'Rf': 267.0, 'Db': 270.0, 'Sg': 269.0, 'Bh': 270.0, 'Hs': 270.0, 'Mt': 278.0, 'Ds': 281.0, 'Rg': 281.0, 'Cn': 285.0, 'Nh': 286.0, 'Fl': 289.0, 'Mc': 289.0, 'Lv': 293.0, 'Ts': 293.0, 'Og': 294.0}\n"
     ]
    },
    {
     "data": {
      "image/png": "[encoded data removed]",
      "text/plain": [
       "<Figure size 432x288 with 1 Axes>"
      ]
     },
     "metadata": {
      "needs_background": "light"
     },
     "output_type": "display_data"
    }
   ],
   "source": [
    "with open (\"Mass_numbers.txt\", \"r\") as data:\n",
    "    data_list = [line.split(', ') for line in data.read().splitlines()]\n",
    "    #print(data_list)\n",
    "\n",
    "    mass_num = dict((x[1], x[2]) for x in data_list)        #creates a dictionary \n",
    "    for key in mass_num.keys():\n",
    "        mass_num[key] = float(mass_num[key])        #converts string values to float\n",
    "    print ('mass numbers =', mass_num)\n",
    "    \n",
    "    n_yield2 = []\n",
    "    mass_no = []\n",
    "    \n",
    "    for key in mass_num:\n",
    "        Y = 0.1 * (E - 0.120)*(mass_num[key] + 20)\n",
    "        n_yield2.append(Y)\n",
    "        mass_no.append(mass_num[key])\n",
    "    #print('m = ', mass_no)\n",
    "    #print('n = ', n_yield2)\n",
    "           \n",
    "    plt.plot(mass_no, n_yield2)\n",
    "    plt.xlabel('Mass Number')\n",
    "    plt.ylabel('Neutron Yield')\n",
    "    plt.show()\n",
    "\n",
    "    "
   ]
  },
  {
   "cell_type": "code",
   "execution_count": null,
   "metadata": {},
   "outputs": [],
   "source": []
  }
 ],
 "metadata": {
  "kernelspec": {
   "display_name": "Python 3",
   "language": "python",
   "name": "python3"
  },
  "language_info": {
   "codemirror_mode": {
    "name": "ipython",
    "version": 3
   },
   "file_extension": ".py",
   "mimetype": "text/x-python",
   "name": "python",
   "nbconvert_exporter": "python",
   "pygments_lexer": "ipython3",
   "version": "3.8.3"
  }
 },
 "nbformat": 4,
 "nbformat_minor": 4
}
