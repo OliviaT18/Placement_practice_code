{
 "cells": [
  {
   "cell_type": "markdown",
   "metadata": {},
   "source": [
    "## Activity Calculator"
   ]
  },
  {
   "cell_type": "code",
   "execution_count": 8,
   "metadata": {},
   "outputs": [],
   "source": [
    "Nuclide = \"Co60\"\n",
    "\n",
    "A0 = 1e9\n",
    "\n",
    "Time = 5.27*365*24*60*60\n"
   ]
  },
  {
   "cell_type": "code",
   "execution_count": 17,
   "metadata": {},
   "outputs": [
    {
     "name": "stdout",
     "output_type": "stream",
     "text": [
      "raw_data =  [['Co60', '5.27', 'y'], ['Cs137', '30', 'y'], ['N17', '4.173', 's'], ['I131', '8.02', 'd'], ['Au198', '2.695', 'd'], ['Ni63', '100.1', 'y'], ['Al28', '2.245', 'm']]\n",
      "Half lives = {'Co60': 5.27, 'Cs137': 30.0, 'N17': 4.173, 'I131': 8.02, 'Au198': 2.695, 'Ni63': 100.1, 'Al28': 2.245}\n",
      "Units = {'Co60': 'y', 'Cs137': 'y', 'N17': 's', 'I131': 'd', 'Au198': 'd', 'Ni63': 'y', 'Al28': 'm'}\n",
      "half life /s 166194720.0\n",
      "half life /s 946080000.0\n",
      "half life /s = 692928.0\n",
      "half life /s = 232848.0\n",
      "half life /s 3156753600.0\n",
      "half life /s 134.70000000000002\n",
      "Half life = 166194720.0\n",
      "Units = y\n",
      "Decay constant = 4.170693151743601e-09\n",
      "Activity = 500000000.0 Bq\n"
     ]
    }
   ],
   "source": [
    "import numpy as np\n",
    "\n",
    "with open (\"half_lives.txt\", \"r\") as data:\n",
    "    next (data)                            #ignores header line\n",
    "    data_list = [line.split(', ') for line in data.read().splitlines()]\n",
    "    \n",
    "    #splits data from file into a list of lists\n",
    "    print ('raw_data = ', data_list)\n",
    "    \n",
    "    half_life = dict((x[0], x[1]) for x in data_list)        #creates a dictionary for half lives\n",
    "    for key in half_life.keys():\n",
    "        half_life[key] = float(half_life[key])        #converts string values to float\n",
    "    print ('Half lives =', half_life)\n",
    "        \n",
    "    Units = dict((x[0], x[2]) for x in data_list)\n",
    "    print ('Units =', Units)\n",
    "\n",
    "\n",
    "    for key in half_life:\n",
    "        if Units[key] == 'y':                               \n",
    "            half_life[key] = half_life[key] * (365*24*60*60)            \n",
    "            print ('half life /s', half_life[key])                    ##Reassigns half life to the converted version\n",
    "        elif Units[key] == 'm':\n",
    "            half_life[key] = half_life[key] * 60\n",
    "            print ('half life /s', half_life[key])\n",
    "        elif Units[key] == 'd':\n",
    "            half_life[key] = half_life[key] * (24*60*60)\n",
    "            print ('half life /s =', half_life[key])\n",
    "            \n",
    "    key = Nuclide\n",
    "    \n",
    "    print('Half life =', half_life[key])\n",
    "    print('Units =', Units[key])\n",
    "    \n",
    "    decay_const = np.log(2)/ half_life[key]\n",
    "    print ('Decay constant =', decay_const)\n",
    "    \n",
    "    Activity = A0*np.exp(-1*decay_const*Time)\n",
    "    print ('Activity =', Activity, 'Bq')       \n",
    "    \n",
    "data.close()\n",
    "    "
   ]
  },
  {
   "cell_type": "code",
   "execution_count": null,
   "metadata": {},
   "outputs": [],
   "source": []
  }
 ],
 "metadata": {
  "kernelspec": {
   "display_name": "Python 3",
   "language": "python",
   "name": "python3"
  },
  "language_info": {
   "codemirror_mode": {
    "name": "ipython",
    "version": 3
   },
   "file_extension": ".py",
   "mimetype": "text/x-python",
   "name": "python",
   "nbconvert_exporter": "python",
   "pygments_lexer": "ipython3",
   "version": "3.8.3"
  }
 },
 "nbformat": 4,
 "nbformat_minor": 4
}
