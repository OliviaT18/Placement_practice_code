{
 "cells": [
  {
   "cell_type": "markdown",
   "metadata": {},
   "source": [
    "# Monte Carlo Extension"
   ]
  },
  {
   "cell_type": "code",
   "execution_count": 40,
   "metadata": {},
   "outputs": [
    {
     "name": "stdout",
     "output_type": "stream",
     "text": [
      "10 2.8\n",
      "10 2.4\n",
      "10 2.8\n",
      "10 3.2\n",
      "10 3.2\n",
      "100 3.0\n",
      "100 2.92\n",
      "100 3.44\n",
      "100 3.0\n",
      "100 3.12\n",
      "1000 3.088\n",
      "1000 3.116\n",
      "1000 3.072\n",
      "1000 3.16\n",
      "1000 3.168\n",
      "10000 3.1236\n",
      "10000 3.1468\n",
      "10000 3.1632\n",
      "10000 3.1388\n",
      "10000 3.144\n",
      "100000 3.14396\n",
      "100000 3.14192\n",
      "100000 3.14816\n",
      "100000 3.14896\n",
      "100000 3.13784\n",
      "1000000 3.139752\n",
      "1000000 3.142612\n",
      "1000000 3.143684\n",
      "1000000 3.141512\n",
      "1000000 3.140248\n",
      "mean = [3.12, 3.06, 3.0831999999999997, 3.0991400000000002, 3.1072800000000007, 3.112883333333334]\n",
      "standard deviation =  [0.4664761515876241, 0.34698703145794957, 0.28535900196068814, 0.24874620881533058, 0.22308598865908189, 0.20403423109425106]\n"
     ]
    }
   ],
   "source": [
    "import numpy as np\n",
    "import matplotlib.pyplot as plt\n",
    "\n",
    "def pi_est(N):\n",
    "\n",
    "    M=0 \n",
    "    \n",
    "    for i in range (N):\n",
    "        x = np.random.uniform(-1.0,1.0)   \n",
    "        y = np.random.uniform(-1.0,1.0)\n",
    "        x_circle = []                              \n",
    "        y_circle = []\n",
    "        x_circle.append(x)              \n",
    "        y_circle.append(y)  \n",
    "        \n",
    "        if x**2+y**2 <=1:\n",
    "            M+=1                                   \n",
    "        else:\n",
    "            x_square = []\n",
    "            y_square = []\n",
    "            x_square.append(x)             \n",
    "            y_square.append(y)             \n",
    "        \n",
    "    pi_calc = (M/N)*4\n",
    "    return (pi_calc)\n",
    "\n",
    "N_values = [10, 100, 1000, 10000, 100000, 1000000]\n",
    "mean_vals = []\n",
    "standard_deviation = []\n",
    "Estimate = []\n",
    "\n",
    "for N in N_values:\n",
    "    j=0   \n",
    "\n",
    "    while j <= 4:\n",
    "        Estimate.append(pi_est(N)) \n",
    "        print (N, pi_est(N))\n",
    "        j+=1\n",
    "        \n",
    "    mean = np.mean(Estimate)\n",
    "    mean_vals.append(mean)\n",
    "    \n",
    "    sd = np.std(Estimate)\n",
    "    standard_deviation.append(sd)\n",
    "     \n",
    "print ('mean =', mean_vals)\n",
    "print ('standard deviation = ', standard_deviation )\n",
    "\n",
    "\n"
   ]
  },
  {
   "cell_type": "code",
   "execution_count": null,
   "metadata": {},
   "outputs": [],
   "source": []
  }
 ],
 "metadata": {
  "kernelspec": {
   "display_name": "Python 3",
   "language": "python",
   "name": "python3"
  },
  "language_info": {
   "codemirror_mode": {
    "name": "ipython",
    "version": 3
   },
   "file_extension": ".py",
   "mimetype": "text/x-python",
   "name": "python",
   "nbconvert_exporter": "python",
   "pygments_lexer": "ipython3",
   "version": "3.8.3"
  }
 },
 "nbformat": 4,
 "nbformat_minor": 4
}
