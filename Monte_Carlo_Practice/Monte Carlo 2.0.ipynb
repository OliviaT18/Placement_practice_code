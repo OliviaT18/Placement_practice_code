{
 "cells": [
  {
   "cell_type": "markdown",
   "metadata": {},
   "source": [
    "# Monte Carlo 2.0"
   ]
  },
  {
   "cell_type": "code",
   "execution_count": 33,
   "metadata": {},
   "outputs": [
    {
     "name": "stdout",
     "output_type": "stream",
     "text": [
      "3.1508\n"
     ]
    }
   ],
   "source": [
    "import numpy as np\n",
    "import matplotlib.pyplot as plt\n",
    "\n",
    "def pi_est(N):\n",
    "\n",
    "    M=0\n",
    "    \n",
    "    for i in range (N):\n",
    "        x = np.random.uniform(-1.0,1.0)    \n",
    "        y = np.random.uniform(-1.0,1.0)\n",
    "        x_circle = []                              \n",
    "        y_circle = []\n",
    "        x_circle.append(x)              \n",
    "        y_circle.append(y)  \n",
    "        \n",
    "        if x**2+y**2 <=1:\n",
    "            M+=1                                   \n",
    "        else:\n",
    "            x_square = []\n",
    "            y_square = []\n",
    "            x_square.append(x)             \n",
    "            y_square.append(y)             \n",
    "        \n",
    "    pi_calc = (M/N)*4\n",
    "    return (pi_calc) \n",
    "    \n",
    "\n",
    "Estimate = pi_est(10000)\n",
    "print (Estimate) \n",
    "\n"
   ]
  },
  {
   "cell_type": "markdown",
   "metadata": {},
   "source": [
    "## Plotting the graph"
   ]
  },
  {
   "cell_type": "code",
   "execution_count": 73,
   "metadata": {},
   "outputs": [
    {
     "name": "stdout",
     "output_type": "stream",
     "text": [
      "10 3.6\n",
      "100 3.08\n",
      "1000 3.152\n",
      "10000 3.1288\n",
      "100000 3.14788\n",
      "1000000 3.143644\n"
     ]
    },
    {
     "data": {
      "image/png": "[encoded data removed]",
      "text/plain": [
       "<Figure size 432x288 with 1 Axes>"
      ]
     },
     "metadata": {
      "needs_background": "light"
     },
     "output_type": "display_data"
    }
   ],
   "source": [
    "\n",
    "N_values = [10, 100, 1000, 10000, 100000, 1000000]\n",
    "\n",
    "I=[]\n",
    "\n",
    "for n in N_values:\n",
    "    Iterations = pi_est(n)\n",
    "    I.append(Iterations)\n",
    "    print(n, Iterations)\n",
    "    \n",
    "    \n",
    "plt.xscale('log')\n",
    "plt.plot(N_values, I, 'm-', label = 'Iterations', marker = '*')\n",
    "plt.axhline(y=np.pi, label = 'Actual Pi', color = 'g', linestyle = '--')\n",
    "plt.xlabel('Iterations', fontsize = 16)\n",
    "plt.legend()\n",
    "plt.title('Monte Carlo Estimation of Pi', fontsize= 22)\n",
    "plt.show()\n",
    "\n",
    "\n"
   ]
  }
 ],
 "metadata": {
  "kernelspec": {
   "display_name": "Python 3",
   "language": "python",
   "name": "python3"
  },
  "language_info": {
   "codemirror_mode": {
    "name": "ipython",
    "version": 3
   },
   "file_extension": ".py",
   "mimetype": "text/x-python",
   "name": "python",
   "nbconvert_exporter": "python",
   "pygments_lexer": "ipython3",
   "version": "3.8.3"
  }
 },
 "nbformat": 4,
 "nbformat_minor": 4
}
